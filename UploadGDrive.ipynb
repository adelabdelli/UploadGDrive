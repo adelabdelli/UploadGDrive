{
  "nbformat": 4,
  "nbformat_minor": 0,
  "metadata": {
    "colab": {
      "name": "to Rym.ipynb",
      "provenance": []
    },
    "kernelspec": {
      "display_name": "Python 3",
      "name": "python3"
    }
  },
  "cells": [
    {
      "cell_type": "code",
      "metadata": {
        "colab": {
          "base_uri": "https://localhost:8080/"
        },
        "id": "aVxcTVJEWlGh",
        "outputId": "0b0ddc95-40f1-4ceb-8490-6bcce4cf2a8c"
      },
      "source": [
        "from google.colab import drive\n",
        "drive.mount('/content/gdrive')"
      ],
      "execution_count": 4,
      "outputs": [
        {
          "output_type": "stream",
          "name": "stdout",
          "text": [
            "Mounted at /content/gdrive\n"
          ]
        }
      ]
    },
    {
      "cell_type": "code",
      "metadata": {
        "colab": {
          "base_uri": "https://localhost:8080/"
        },
        "id": "_TVHtspFWqXN",
        "outputId": "62330e20-8c5c-4e19-c0b4-f981c50a66cf"
      },
      "source": [
        "!wget -c 'https://unlimited.dl.sourceforge.net/project/sevenzip/7-Zip/23.01/7z2301-x64.exe'"
      ],
      "execution_count": 5,
      "outputs": [
        {
          "output_type": "stream",
          "name": "stdout",
          "text": [
            "--2024-04-10 13:10:09--  https://unlimited.dl.sourceforge.net/project/sevenzip/7-Zip/23.01/7z2301-x64.exe\n",
            "Resolving unlimited.dl.sourceforge.net (unlimited.dl.sourceforge.net)... 185.119.90.247\n",
            "Connecting to unlimited.dl.sourceforge.net (unlimited.dl.sourceforge.net)|185.119.90.247|:443... connected.\n",
            "HTTP request sent, awaiting response... 302 Moved Temporarily\n",
            "Location: http://downloads.sourceforge.net/mirrorproblem?failedmirror=unlimited.dl.sourceforge.net [following]\n",
            "--2024-04-10 13:10:10--  http://downloads.sourceforge.net/mirrorproblem?failedmirror=unlimited.dl.sourceforge.net\n",
            "Resolving downloads.sourceforge.net (downloads.sourceforge.net)... 204.68.111.105\n",
            "Connecting to downloads.sourceforge.net (downloads.sourceforge.net)|204.68.111.105|:80... connected.\n",
            "HTTP request sent, awaiting response... 200 OK\n",
            "\n",
            "    The file is already fully retrieved; nothing to do.\n",
            "\n"
          ]
        }
      ]
    },
    {
      "cell_type": "code",
      "metadata": {
        "id": "O_tY64xJXFuA"
      },
      "source": [
        "cp \"7z2301-x64.exe\" \"/content/gdrive/My Drive/\""
      ],
      "execution_count": 8,
      "outputs": []
    },
    {
      "cell_type": "code",
      "metadata": {
        "id": "XeCWNCXNxlav"
      },
      "source": [
        "!cd '/content/gdrive/My Drive/'"
      ],
      "execution_count": 9,
      "outputs": []
    }
  ]
}
